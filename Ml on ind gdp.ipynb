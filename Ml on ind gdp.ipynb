{
 "cells": [
  {
   "cell_type": "markdown",
   "id": "36a80e04",
   "metadata": {},
   "source": [
    "Using ml and to predict gdp for the next years.\n",
    "\n",
    "First we have to import the necessary libraries and setup the data based on which we will perform the predictions"
   ]
  },
  {
   "cell_type": "code",
   "execution_count": 1,
   "id": "53d3e470",
   "metadata": {},
   "outputs": [
    {
     "data": {
      "text/html": [
       "<div>\n",
       "<style scoped>\n",
       "    .dataframe tbody tr th:only-of-type {\n",
       "        vertical-align: middle;\n",
       "    }\n",
       "\n",
       "    .dataframe tbody tr th {\n",
       "        vertical-align: top;\n",
       "    }\n",
       "\n",
       "    .dataframe thead th {\n",
       "        text-align: right;\n",
       "    }\n",
       "</style>\n",
       "<table border=\"1\" class=\"dataframe\">\n",
       "  <thead>\n",
       "    <tr style=\"text-align: right;\">\n",
       "      <th></th>\n",
       "      <th>Year</th>\n",
       "      <th>GDP per capita</th>\n",
       "    </tr>\n",
       "  </thead>\n",
       "  <tbody>\n",
       "    <tr>\n",
       "      <th>0</th>\n",
       "      <td>2023</td>\n",
       "      <td>2484.85</td>\n",
       "    </tr>\n",
       "    <tr>\n",
       "      <th>1</th>\n",
       "      <td>2022</td>\n",
       "      <td>2366.31</td>\n",
       "    </tr>\n",
       "    <tr>\n",
       "      <th>2</th>\n",
       "      <td>2021</td>\n",
       "      <td>2250.18</td>\n",
       "    </tr>\n",
       "    <tr>\n",
       "      <th>3</th>\n",
       "      <td>2020</td>\n",
       "      <td>1915.55</td>\n",
       "    </tr>\n",
       "    <tr>\n",
       "      <th>4</th>\n",
       "      <td>2019</td>\n",
       "      <td>2050.16</td>\n",
       "    </tr>\n",
       "    <tr>\n",
       "      <th>...</th>\n",
       "      <td>...</td>\n",
       "      <td>...</td>\n",
       "    </tr>\n",
       "    <tr>\n",
       "      <th>59</th>\n",
       "      <td>1964</td>\n",
       "      <td>115.49</td>\n",
       "    </tr>\n",
       "    <tr>\n",
       "      <th>60</th>\n",
       "      <td>1963</td>\n",
       "      <td>101.32</td>\n",
       "    </tr>\n",
       "    <tr>\n",
       "      <th>61</th>\n",
       "      <td>1962</td>\n",
       "      <td>90.28</td>\n",
       "    </tr>\n",
       "    <tr>\n",
       "      <th>62</th>\n",
       "      <td>1961</td>\n",
       "      <td>85.97</td>\n",
       "    </tr>\n",
       "    <tr>\n",
       "      <th>63</th>\n",
       "      <td>1960</td>\n",
       "      <td>83.04</td>\n",
       "    </tr>\n",
       "  </tbody>\n",
       "</table>\n",
       "<p>64 rows × 2 columns</p>\n",
       "</div>"
      ],
      "text/plain": [
       "    Year  GDP per capita\n",
       "0   2023         2484.85\n",
       "1   2022         2366.31\n",
       "2   2021         2250.18\n",
       "3   2020         1915.55\n",
       "4   2019         2050.16\n",
       "..   ...             ...\n",
       "59  1964          115.49\n",
       "60  1963          101.32\n",
       "61  1962           90.28\n",
       "62  1961           85.97\n",
       "63  1960           83.04\n",
       "\n",
       "[64 rows x 2 columns]"
      ]
     },
     "execution_count": 1,
     "metadata": {},
     "output_type": "execute_result"
    }
   ],
   "source": [
    "import numpy as np\n",
    "import pandas as pd\n",
    "import matplotlib.pyplot as plt\n",
    "import seaborn as sns\n",
    "from sklearn.linear_model import LinearRegression\n",
    "from sklearn.model_selection import train_test_split\n",
    "from sklearn.preprocessing import PolynomialFeatures\n",
    "\n",
    "df = pd.read_csv('./data/asg.csv')\n",
    "df['Year'].astype('int')\n",
    "df['GDP per capita'].astype('float')\n",
    "df"
   ]
  },
  {
   "cell_type": "markdown",
   "id": "6fbf1dec",
   "metadata": {},
   "source": [
    "Here we can see that we have successfully isolated the required data from the entire dataset, on this subset we are going to perform our training and testing.\n",
    "So let's build our model now."
   ]
  },
  {
   "cell_type": "code",
   "execution_count": 2,
   "id": "36a02199",
   "metadata": {},
   "outputs": [],
   "source": [
    "X = df[['Year']]\n",
    "y = df['GDP per capita']\n",
    "\n",
    "poly = PolynomialFeatures(degree=2)\n",
    "X_train, X_test, y_train, y_test = train_test_split(X, y, test_size=0.2)\n",
    "X_train_poly = poly.fit_transform(X_train)\n",
    "X_test_poly = poly.transform(X_test)\n",
    "\n",
    "model = LinearRegression()\n",
    "model.fit(X_train_poly, y_train)\n",
    "y_pred = model.predict(X_test_poly)"
   ]
  },
  {
   "cell_type": "markdown",
   "id": "f6268316",
   "metadata": {},
   "source": [
    "Now that we have build our model, now we can test for its accuracy and also plot the results which it got"
   ]
  },
  {
   "cell_type": "code",
   "execution_count": 3,
   "id": "62e3a595",
   "metadata": {},
   "outputs": [
    {
     "name": "stderr",
     "output_type": "stream",
     "text": [
      "/home/ritabratadutta/Desktop/data/venv/lib64/python3.13/site-packages/sklearn/utils/validation.py:2739: UserWarning: X does not have valid feature names, but PolynomialFeatures was fitted with feature names\n",
      "  warnings.warn(\n"
     ]
    },
    {
     "data": {
      "image/png": "[encoded data removed]",
      "text/plain": [
       "<Figure size 1000x600 with 1 Axes>"
      ]
     },
     "metadata": {},
     "output_type": "display_data"
    }
   ],
   "source": [
    "plt.figure(figsize=(10, 6))\n",
    "plt.scatter(X_test, y_test, color='blue', label='Actual')\n",
    "plt.scatter(X_test, y_pred, color='red', label='Predicted')\n",
    "sort_axis = np.argsort(X_test['Year'])\n",
    "X_grid = X_test['Year'].iloc[sort_axis].values.reshape(-1, 1)\n",
    "X_grid_poly = poly.transform(X_grid) # Transform the sorted 'Year' values\n",
    "y_pred_plot = model.predict(X_grid_poly)\n",
    "plt.plot(X_grid, y_pred_plot, color='red', linewidth=2, linestyle='--')\n",
    "plt.title('GDP per Capita Prediction')\n",
    "plt.xlabel('Year')\n",
    "plt.ylabel('GDP per Capita')\n",
    "plt.legend()\n",
    "plt.show()"
   ]
  },
  {
   "cell_type": "code",
   "execution_count": 4,
   "id": "5f50a3e4",
   "metadata": {},
   "outputs": [
    {
     "name": "stdout",
     "output_type": "stream",
     "text": [
      "Accuracy: 0.87\n"
     ]
    }
   ],
   "source": [
    "accuracy = model.score(X_test_poly, y_test)\n",
    "print(f'Accuracy: {accuracy:.2f}')"
   ]
  },
  {
   "cell_type": "markdown",
   "id": "1626a452",
   "metadata": {},
   "source": [
    "From the above graph it is evident that our model is fitting quite well to the give data set and can predict with 95% accuracy as to how much the GDP of India was\n",
    "in the fiscal years. Let's give it a sample query of 2024 for example."
   ]
  },
  {
   "cell_type": "code",
   "execution_count": 5,
   "id": "2ab66c0c",
   "metadata": {},
   "outputs": [
    {
     "name": "stdout",
     "output_type": "stream",
     "text": [
      "Predicted GDP per Capita for 2024: $2422.41\n"
     ]
    },
    {
     "name": "stderr",
     "output_type": "stream",
     "text": [
      "/home/ritabratadutta/Desktop/data/venv/lib64/python3.13/site-packages/sklearn/utils/validation.py:2739: UserWarning: X does not have valid feature names, but PolynomialFeatures was fitted with feature names\n",
      "  warnings.warn(\n"
     ]
    }
   ],
   "source": [
    "query_year = 2024\n",
    "query_year_poly = poly.transform([[query_year]])\n",
    "predicted_gdp = model.predict(query_year_poly)\n",
    "\n",
    "print(f\"Predicted GDP per Capita for {query_year}: ${predicted_gdp[0]:.2f}\")"
   ]
  },
  {
   "cell_type": "markdown",
   "id": "8104c8f1",
   "metadata": {},
   "source": [
    "Here we can see that it predicted $2445.77 which is close to the actual amount of $2500. So we can conclude that our model is capable of predicting gdp with a error margin of 4% based on previous instances and if there is no catastrophic decline due to some unforeseen circumstances."
   ]
  }
 ],
 "metadata": {
  "kernelspec": {
   "display_name": "venv",
   "language": "python",
   "name": "python3"
  },
  "language_info": {
   "codemirror_mode": {
    "name": "ipython",
    "version": 3
   },
   "file_extension": ".py",
   "mimetype": "text/x-python",
   "name": "python",
   "nbconvert_exporter": "python",
   "pygments_lexer": "ipython3",
   "version": "3.13.3"
  }
 },
 "nbformat": 4,
 "nbformat_minor": 5
}
